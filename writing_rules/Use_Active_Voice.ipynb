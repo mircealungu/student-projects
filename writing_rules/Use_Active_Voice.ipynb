{
 "cells": [
  {
   "cell_type": "markdown",
   "metadata": {},
   "source": [
    "\n"
   ]
  },
  {
   "cell_type": "markdown",
   "metadata": {},
   "source": [
    "# Use Active Voice\n",
    "\n",
    "Always use active voice.\n",
    "\n",
    "Using passive voice requires more words to provide less information.\n",
    "Compare the following to examples. Which is more informative?\n",
    "\n",
    "> **The choice became** Cloud Firestore as it focused on...\n",
    "\n",
    "vs.\n",
    "\n",
    "> **We chose** Cloud Firestore as it focused on ...\n",
    "\n",
    "Also, active voice is perceived as more powerful.\n",
    "\n",
    "\n"
   ]
  }
 ],
 "metadata": {
  "anaconda-cloud": {},
  "kernelspec": {
   "display_name": "Python (whatever you want to call it)",
   "language": "python",
   "name": "envname"
  },
  "language_info": {
   "codemirror_mode": {
    "name": "ipython",
    "version": 3
   },
   "file_extension": ".py",
   "mimetype": "text/x-python",
   "name": "python",
   "nbconvert_exporter": "python",
   "pygments_lexer": "ipython3",
   "version": "3.6.1"
  }
 },
 "nbformat": 4,
 "nbformat_minor": 1
}
