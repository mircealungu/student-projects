{
 "cells": [
  {
   "cell_type": "markdown",
   "metadata": {},
   "source": [
    "# Omit needless words\n",
    "\n",
    "\n",
    "From a student submission. \n",
    "\n",
    "> Initially, Zeeguu-Core primarily contains Python files, with the exact number being 194.  \n",
    "\n",
    "Eliminating the useless words we get: \n",
    "\n",
    "> Zeeguu-Core contains 194 Python files.\n",
    "\n",
    "This is probably one of the most important rules of writing.\n",
    "\n",
    "\n",
    "\n"
   ]
  },
  {
   "cell_type": "markdown",
   "metadata": {},
   "source": [
    "\n"
   ]
  }
 ],
 "metadata": {
  "anaconda-cloud": {},
  "kernelspec": {
   "display_name": "Python (whatever you want to call it)",
   "language": "python",
   "name": "envname"
  },
  "language_info": {
   "codemirror_mode": {
    "name": "ipython",
    "version": 3
   },
   "file_extension": ".py",
   "mimetype": "text/x-python",
   "name": "python",
   "nbconvert_exporter": "python",
   "pygments_lexer": "ipython3",
   "version": "3.6.1"
  }
 },
 "nbformat": 4,
 "nbformat_minor": 1
}
