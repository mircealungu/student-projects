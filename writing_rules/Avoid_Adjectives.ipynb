{
 "cells": [
  {
   "cell_type": "markdown",
   "metadata": {},
   "source": [
    "\n"
   ]
  },
  {
   "cell_type": "markdown",
   "metadata": {},
   "source": [
    "# Avoid Adjectives\n",
    "\n",
    "\n",
    "![](img/abysmal.png)\n",
    "\n",
    "Is *abysmal* really needed in the previous example? \n",
    "Do you want to get into a debate with the reader whether the positioning of the settings was just down on the page or *abysmally* down? I don't think so. \n",
    "\n",
    "Adjectives are usually your opinions or judgements. Use them sparingly if at all. \n",
    "In a scientific text you should keep opinions for the *Discussion* section. \n",
    "\n",
    "Everywhere else, stick to facts.\n",
    "\n",
    "\n"
   ]
  }
 ],
 "metadata": {
  "anaconda-cloud": {},
  "kernelspec": {
   "display_name": "Python (whatever you want to call it)",
   "language": "python",
   "name": "envname"
  },
  "language_info": {
   "codemirror_mode": {
    "name": "ipython",
    "version": 3
   },
   "file_extension": ".py",
   "mimetype": "text/x-python",
   "name": "python",
   "nbconvert_exporter": "python",
   "pygments_lexer": "ipython3",
   "version": "3.6.1"
  }
 },
 "nbformat": 4,
 "nbformat_minor": 1
}
