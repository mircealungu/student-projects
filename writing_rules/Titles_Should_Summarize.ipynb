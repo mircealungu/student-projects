{
 "cells": [
  {
   "cell_type": "markdown",
   "metadata": {},
   "source": [
    "# Titles Should Summarize\n",
    "\n",
    "Any title should summarize the text it heads. \n",
    "\n",
    "I've seen:\n",
    "- thesis title proposals that were using a word that never occurred in the text.\n",
    "- chapters that promise to talk about Refactoring but then in the chapter half of the text is about usability. \n",
    "\n",
    "In such situations either change the content or the title. And usually the title is easier. \n",
    "\n",
    "\n",
    "*Heuristic*: If a term from the title does not appear in the body of the text, probably it should not appear in the title either.\n"
   ]
  }
 ],
 "metadata": {
  "anaconda-cloud": {},
  "kernelspec": {
   "display_name": "Python (whatever you want to call it)",
   "language": "python",
   "name": "envname"
  },
  "language_info": {
   "codemirror_mode": {
    "name": "ipython",
    "version": 3
   },
   "file_extension": ".py",
   "mimetype": "text/x-python",
   "name": "python",
   "nbconvert_exporter": "python",
   "pygments_lexer": "ipython3",
   "version": "3.6.1"
  }
 },
 "nbformat": 4,
 "nbformat_minor": 1
}
