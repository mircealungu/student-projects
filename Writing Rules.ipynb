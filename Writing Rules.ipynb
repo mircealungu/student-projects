{
 "cells": [
  {
   "cell_type": "markdown",
   "metadata": {},
   "source": [
    "\n"
   ]
  },
  {
   "cell_type": "markdown",
   "metadata": {},
   "source": [
    "# 4. Active Tense\n",
    "\n",
    "Passive tense is usually equivalent to needless words.\n",
    "\n",
    "![](img/thechoice.png)\n",
    "\n",
    "With active tense it's shorter and more powerful\n",
    "\n",
    "> We chose Cloud Firestore as it focuses on ...\n"
   ]
  },
  {
   "cell_type": "markdown",
   "metadata": {},
   "source": [
    "# 5. Images \n",
    "\n",
    "Font size in images should be comparable with the rest of the text in the document.\n",
    "\n",
    "This is bad: \n",
    "\n",
    "![](img/small-font-in-image.png)"
   ]
  },
  {
   "cell_type": "markdown",
   "metadata": {},
   "source": [
    "# 6. Titles should summarize\n",
    "\n",
    "A section title should summarize the text it precedes.\n",
    "\n",
    "\n",
    "Heuristic:\n",
    "- If a term does not appear in the body of the section, probably it should not appear in the title either.\n"
   ]
  },
  {
   "cell_type": "markdown",
   "metadata": {},
   "source": [
    "# 7. New Idea - New Paragraph\n",
    "\n",
    "Always.\n",
    "\n"
   ]
  },
  {
   "cell_type": "code",
   "execution_count": null,
   "metadata": {
    "collapsed": true
   },
   "outputs": [],
   "source": []
  }
 ],
 "metadata": {
  "anaconda-cloud": {},
  "kernelspec": {
   "display_name": "Python (whatever you want to call it)",
   "language": "python",
   "name": "envname"
  },
  "language_info": {
   "codemirror_mode": {
    "name": "ipython",
    "version": 3
   },
   "file_extension": ".py",
   "mimetype": "text/x-python",
   "name": "python",
   "nbconvert_exporter": "python",
   "pygments_lexer": "ipython3",
   "version": "3.6.1"
  }
 },
 "nbformat": 4,
 "nbformat_minor": 1
}
